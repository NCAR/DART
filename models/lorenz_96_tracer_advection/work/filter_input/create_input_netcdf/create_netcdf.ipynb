{
 "cells": [
  {
   "cell_type": "code",
   "execution_count": 1,
   "id": "40de27ac-a8db-43f2-ac73-36a926579297",
   "metadata": {},
   "outputs": [],
   "source": [
    "# import necessary librarries\n",
    "from netCDF4 import Dataset\n",
    "import netCDF4\n",
    "import numpy as np\n",
    "import math\n",
    "import os"
   ]
  },
  {
   "cell_type": "code",
   "execution_count": 2,
   "id": "3b3c211e-42a4-4d95-9f9e-52cd6e31ec42",
   "metadata": {},
   "outputs": [
    {
     "name": "stdout",
     "output_type": "stream",
     "text": [
      "<class 'netCDF4._netCDF4.Dataset'>\n",
      "root group (NETCDF4_CLASSIC data model, file format HDF5):\n",
      "    dimensions(sizes): \n",
      "    variables(dimensions): \n",
      "    groups: \n"
     ]
    }
   ],
   "source": [
    "# Check that netcdf4 works\n",
    "try: ncfile.close()\n",
    "except: pass\n",
    "\n",
    "# Create a new. Here we're creating a test netcf\n",
    "ncfile = Dataset(\"test.nc\",mode='w',format='NETCDF4_CLASSIC') # Don't put an entire folder path in the name section.\n",
    "print(ncfile)"
   ]
  },
  {
   "cell_type": "code",
   "execution_count": 3,
   "id": "97fe9908-021a-4ec8-ad7c-b501339963a2",
   "metadata": {},
   "outputs": [
    {
     "name": "stdout",
     "output_type": "stream",
     "text": [
      "('member', <class 'netCDF4._netCDF4.Dimension'>: name = 'member', size = 80)\n",
      "('location', <class 'netCDF4._netCDF4.Dimension'>: name = 'location', size = 40)\n",
      "('modelsize', <class 'netCDF4._netCDF4.Dimension'>: name = 'modelsize', size = 120)\n",
      "('time', <class 'netCDF4._netCDF4.Dimension'> (unlimited): name = 'time', size = 0)\n"
     ]
    }
   ],
   "source": [
    "# Adding dimensions to the netcdf file. Leave these be unless you want to increase the size of ensemble members, gridpoints, or the state vector \n",
    "\n",
    "member_dim = ncfile.createDimension('member', 80)\n",
    "location_array = ncfile.createDimension('location', 40)\n",
    "model_size = ncfile.createDimension('modelsize', 120)\n",
    "time = ncfile.createDimension('time', None)\n",
    "\n",
    "for dim in ncfile.dimensions.items():\n",
    "    print(dim)"
   ]
  },
  {
   "cell_type": "code",
   "execution_count": 4,
   "id": "1e193b3f-5792-481b-9394-1a92cebf602c",
   "metadata": {},
   "outputs": [],
   "source": [
    "# Adding attributes to the netcdf file\n",
    "ncfile.title = \"an ensemble of spun-up model states\"\n",
    "ncfile.version = \"$Id: $\"\n",
    "ncfile.model = \"Lorenz_96_Tracer_Advection\"\n",
    "ncfile.model_forcing = 8.\n",
    "ncfile.model_delta_t = 0.05\n",
    "ncfile.source_rate = 100.\n",
    "ncfile.exponential_sink_folding = 1."
   ]
  },
  {
   "cell_type": "code",
   "execution_count": 6,
   "id": "b2da15f7-5c33-4280-9c24-61fafb46482a",
   "metadata": {},
   "outputs": [],
   "source": [
    "# CREATING VARIABLES (THIS IS WHERE THE DATA GOES)\n",
    "\n",
    "# Variable for Model Size\n",
    "modelsize = ncfile.createVariable('modelsize', np.int32, ('modelsize',))\n",
    "modelsize.dimension = 1.\n",
    "modelsize.long_name = \"the number of all the model variable\""
   ]
  },
  {
   "cell_type": "code",
   "execution_count": 8,
   "id": "ad15a6f7-c8d5-4eab-8390-ff4f42c3545e",
   "metadata": {},
   "outputs": [],
   "source": [
    "# Variable for Location\n",
    "location = ncfile.createVariable('location', np.double, ('location',))\n",
    "location.short_name = \"loc1d\"\n",
    "location.long_name = \"location on a unit circle\"\n",
    "location.dimension = 1.\n",
    "location.valid_range = 0.,1."
   ]
  },
  {
   "cell_type": "code",
   "execution_count": 9,
   "id": "66453c2e-02ae-47dc-9525-151144fa99be",
   "metadata": {},
   "outputs": [],
   "source": [
    "# Variable for State (Winds in our case)\n",
    "state_var = ncfile.createVariable('state_variable', np.double, ('time','member','location',))\n",
    "state_var.long_name = \"The lorenz-96 wind variables\"\n",
    "\n",
    "# Variable for Tracer Concentration\n",
    "tracer_conc = ncfile.createVariable('tracer_concentration', np.double, ('time','member','location',))\n",
    "tracer_conc.long_name = \"The lorenz-96 semi lagrangian tracers\"\n",
    "\n",
    "# Variable for Source Location and Strength\n",
    "source = ncfile.createVariable('source', np.double, ('time','member','location',))\n",
    "source.long_name = \"The lorenz-96 semi lagrangian tracer sources\""
   ]
  },
  {
   "cell_type": "code",
   "execution_count": 10,
   "id": "1d19537b-1ccf-4088-af89-20a87023436d",
   "metadata": {},
   "outputs": [],
   "source": [
    "# More variables for describe inflations (leave these be)\n",
    "state_priorinf_mean = ncfile.createVariable('state_priorinf_mean', np.double, ('time','modelsize'))\n",
    "state_priorinf_mean.long_name = \"prior inflation value\"\n",
    "\n",
    "state_priorinf_sd = ncfile.createVariable('state_priorinf_sd', np.double, ('time','modelsize'))\n",
    "state_priorinf_sd.long_name = \"prior inflation standard deviation\"\n",
    "\n",
    "state_postinf_mean = ncfile.createVariable('state_postinf_mean', np.double, ('time','modelsize'))\n",
    "state_postinf_mean.long_name = \"posterior inflation value\"\n",
    "\n",
    "state_postinf_sd = ncfile.createVariable('state_postinf_sd', np.double, ('time','modelsize'))\n",
    "state_postinf_sd.long_name = \"posterior inflation standard deviation\""
   ]
  },
  {
   "cell_type": "code",
   "execution_count": 12,
   "id": "10278a7d-2507-4165-ac76-52207452699c",
   "metadata": {},
   "outputs": [],
   "source": [
    "# Variable for Time\n",
    "\n",
    "time = ncfile.createVariable('time', np.double, ('time',))\n",
    "time.long_name = \"valid time of the model state\"\n",
    "time.axis = \"T\"\n",
    "time.cartesian_axis = \"T\"\n",
    "time.calendar = \"none\"\n",
    "time.unis = \"days\"\n",
    "\n",
    "advance_to_time = ncfile.createVariable('advance_to_time', np.double)\n",
    "advance_to_time.long_name = \"desired time at the end of the next model advance\"\n",
    "advance_to_time.axis = \"T\"\n",
    "advance_to_time.cartesian_axis = \"T\"\n",
    "advance_to_time.calendar = \"none\"\n",
    "advance_to_time.unis = \"days\""
   ]
  },
  {
   "cell_type": "code",
   "execution_count": 13,
   "id": "9786915b-8f48-450d-8efe-135f2aac1c3d",
   "metadata": {},
   "outputs": [
    {
     "name": "stdout",
     "output_type": "stream",
     "text": [
      "<class 'netCDF4._netCDF4.Dataset'>\n",
      "root group (NETCDF4_CLASSIC data model, file format HDF5):\n",
      "    title: an ensemble of spun-up model states\n",
      "    version: $Id: $\n",
      "    model: Lorenz_96_Tracer_Advection\n",
      "    model_forcing: 8.0\n",
      "    model_delta_t: 0.05\n",
      "    source_rate: 100.0\n",
      "    exponential_sink_folding: 1.0\n",
      "    dimensions(sizes): member(80), location(40), modelsize(120), time(0)\n",
      "    variables(dimensions): int32 modelsize(modelsize), float64 location(location), float64 state_variable(time, member, location), float64 tracer_concentration(time, member, location), float64 source(time, member, location), float64 state_priorinf_mean(time, modelsize), float64 state_priorinf_sd(time, modelsize), float64 state_postinf_mean(time, modelsize), float64 state_postinf_sd(time, modelsize), float64 time(time), float64 advance_to_time()\n",
      "    groups: \n"
     ]
    }
   ],
   "source": [
    "print(ncfile)"
   ]
  },
  {
   "cell_type": "code",
   "execution_count": 15,
   "id": "a0d74d77-bd0a-430b-81b2-86c7a7035683",
   "metadata": {},
   "outputs": [],
   "source": [
    "x = np.genfromtxt('test.csv')\n",
    "part_loc = np.arange(0,1,0.025)\n",
    "one = np.ones(x.shape)\n",
    "std_frac = 0.6*one"
   ]
  },
  {
   "cell_type": "code",
   "execution_count": 18,
   "id": "bddd4e2a-89fd-409c-8117-eeb80754a196",
   "metadata": {},
   "outputs": [],
   "source": [
    "# Assigning values ot the variables\n",
    "\n",
    "modelsize[:] = np.arange(1,121)\n",
    "state_var[0,0,:] = x[0:40]\n",
    "tracer_conc[0,0,:] = x[40:80]\n",
    "source[0,0,:] = x[80:120]\n",
    "v = np.arange(0,1,0.025)\n",
    "location[:] = np.concatenate(part_loc, axis=None)\n",
    "state_priorinf_mean[0,:] = one\n",
    "state_priorinf_sd[0,:] = std_frac\n",
    "state_postinf_mean[0,:] = one\n",
    "state_postinf_sd[0,:] = std_frac\n",
    "time[0] = 0\n",
    "advance_to_time[0] = 0"
   ]
  },
  {
   "cell_type": "code",
   "execution_count": 19,
   "id": "7ce6e650-f746-4a34-bee1-6603050f4b89",
   "metadata": {},
   "outputs": [],
   "source": [
    "ncfile.close()"
   ]
  }
 ],
 "metadata": {
  "kernelspec": {
   "display_name": "Python 3",
   "language": "python",
   "name": "python3"
  },
  "language_info": {
   "codemirror_mode": {
    "name": "ipython",
    "version": 3
   },
   "file_extension": ".py",
   "mimetype": "text/x-python",
   "name": "python",
   "nbconvert_exporter": "python",
   "pygments_lexer": "ipython3",
   "version": "3.8.10"
  }
 },
 "nbformat": 4,
 "nbformat_minor": 5
}
